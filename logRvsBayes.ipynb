{
 "cells": [
  {
   "cell_type": "code",
   "execution_count": 4,
   "metadata": {},
   "outputs": [],
   "source": [
    "import pandas as pd\n",
    "import numpy as np\n",
    "import matplotlib.pyplot as plt\n",
    "from tqdm import tqdm\n",
    "import math\n",
    "import itertools\n",
    "\n",
    "#fx1 = lambda x1,x2,gamma:(x1**2 + x2 ** 2 * gamma)/2\n",
    "pi = math.pi\n",
    "def log(x):\n",
    "    return math.log(x)\n",
    "def cos(x):\n",
    "    return math.cos(x)\n",
    "def sin(x):\n",
    "    return math.sin(x)\n",
    "def exp(x):\n",
    "    return np.exp(x)\n",
    "def real(x):\n",
    "    return np.real(x)\n",
    "def imag(x):\n",
    "    return np.imag(x)"
   ]
  },
  {
   "cell_type": "code",
   "execution_count": 5,
   "metadata": {},
   "outputs": [
    {
     "data": {
      "text/plain": [
       "[<matplotlib.lines.Line2D at 0x55a8dd8>]"
      ]
     },
     "execution_count": 5,
     "metadata": {},
     "output_type": "execute_result"
    },
    {
     "data": {
      "image/png": "[encoded data removed]",
      "text/plain": [
       "<Figure size 432x288 with 1 Axes>"
      ]
     },
     "metadata": {
      "needs_background": "light"
     },
     "output_type": "display_data"
    }
   ],
   "source": [
    "df = pd.read_csv(\"train_2d.txt\", sep=',')\n",
    "df_x = df[['x1','x2']]\n",
    "df_y = df['y']\n",
    "df_sub1 = df[df['y'] == 0]\n",
    "df_sub2 = df[df['y'] == 1]\n",
    "plt.plot(df_sub1['x1'],df_sub1['x2'],'ro')\n",
    "plt.plot(df_sub2['x1'],df_sub2['x2'],'bx')"
   ]
  },
  {
   "cell_type": "code",
   "execution_count": 6,
   "metadata": {},
   "outputs": [],
   "source": [
    "\n",
    "\n",
    "def sigmoid(x,seta):\n",
    "    #think x,seta as n * m - numpy array\n",
    "    # x = n x m seta = m array\n",
    "    # output as n*1 array\n",
    "    \n",
    "    return 1 / (1+ np.exp(-1*np.matmul(x,seta)))\n",
    "\n",
    "def log_gradient(x,y,seta):\n",
    "    # y = n *1\n",
    "    z = np.matmul(sigmoid(x,seta)-y,x)\n",
    "    return z/y.size\n",
    "\n",
    "# using =X D X^T\n",
    "# where X = x, D = diagonal matrix that has h(z)(1-h(z))\n",
    "# ref = https://stats.stackexchange.com/questions/68391/hessian-of-logistic-function\n",
    "def log_hessian(x,y,seta):\n",
    "    #first step get diagonal mtx \n",
    "  \n",
    "    m = y.size\n",
    "    D = np.zeros((m,m))\n",
    "    for i,x_i in enumerate(x):\n",
    "        h = sigmoid(x_i, seta)\n",
    "       # print(h)\n",
    "        D[i][i] = h * (1-h)\n",
    "    \n",
    "   # print('------------------')\n",
    "   # print(seta)\n",
    "    #print('------------------')\n",
    "    #print(D)\n",
    "    # y = n *1\n",
    "    #A = np.matmul(x,D)\n",
    "    xt = np.transpose(x)\n",
    "   \n",
    "    H = np.matmul(np.matmul(xt,D),x)\n",
    "    \n",
    "    return H\n",
    "\n",
    "class LogsitcRegression_custom(object):\n",
    "   \n",
    "    def __init__(self,solver,itr, alpha):\n",
    "        self.solver = solver\n",
    "        self.itr = itr\n",
    "        self.alpha = alpha\n",
    "    \n",
    "    def fit(self,x,y):        \n",
    "        if self.solver == 'gradient':\n",
    "            m = y.size\n",
    "            n = x.loc[0].size+1\n",
    "            seta = np.zeros((n))\n",
    "            ny = y.to_numpy()\n",
    "            nx_ = x.to_numpy()\n",
    "            #print((np.zeros(m) + 1).shape)\n",
    "            nx = np.hstack([np.ones(m).reshape(m,1),x.to_numpy()])\n",
    "            print(nx)\n",
    "            nx = nx/np.linalg.norm(nx, ord=2, axis=1, keepdims=True)\n",
    "            \n",
    "            for i in tqdm(range(1,self.itr),mininterval=1):\n",
    "\n",
    "                #for j in range(1,m):\n",
    "                z = nx.dot(seta)\n",
    "                h = 1 / (np.exp((-1)* z) + 1)\n",
    "                y_ = h\n",
    "                y_check = np.rint(y_)\n",
    "              #  print(y_check)\n",
    "                distance = np.linalg.norm(ny-y_check,ord=1)\n",
    "                if (i % 100) == 1:\n",
    "                    print(str((m-distance) / m * 100) + '% accuracy' )\n",
    "\n",
    "                gdsum = np.zeros((n))\n",
    "                for j in range (0,m):\n",
    "                    for k in range (0,n): \n",
    "                        gdsum[k] += ((ny[j] - y_[j]) * nx[j][k]) / m\n",
    "                     #   gdsum[1] += ((ny[j] - y_[j]) * nx[j][1]) / m\n",
    "                     #   gdsum[2] += ((ny[j] - y_[j]) * nx[j][2]) / m\n",
    "           #     print(seta)\n",
    "                seta = seta + self.alpha * gdsum\n",
    "            self.seta = seta\n",
    "        elif self.solver == 'newton':\n",
    "            m = y.size\n",
    "            n = x.loc[0].size\n",
    "            \n",
    "            seta = np.zeros((n))\n",
    "            ny = y.to_numpy()\n",
    "            nx = x.to_numpy()\n",
    "           # print(ny)\n",
    "            for i in tqdm(range(1,self.itr),mininterval=1):\n",
    "              \n",
    "                G_ = log_gradient(nx,ny,seta)\n",
    "                H_ = log_hessian(nx,ny,seta)\n",
    "                H_inv = np.linalg.inv(H_)\n",
    "              #  print(H_inv)\n",
    "              #  print(G_)\n",
    "                seta = seta - self.alpha * (np.matmul(H_inv , G_))\n",
    "                if (i % 100) == 1:\n",
    "                    z = nx.dot(seta)\n",
    "                    h = 1 / (np.exp((-1)* z) + 1)\n",
    "                    y_ = h\n",
    "                    y_check = np.rint(y_)\n",
    "                    distance = np.linalg.norm(ny-y_check,ord=1)\n",
    "                    #sigmoid (x,seta)\n",
    "                    print(str((m-distance) / m * 100) + '% accuracy' )\n",
    "\n",
    "            self.seta = seta\n",
    "       \n",
    "    def predict (self,x):\n",
    "        nx = x.to_numpy()\n",
    "        z = nx.dot(self.seta)\n",
    "        h = 1 / (np.exp((-1)* z) + 1)\n",
    "        y_ = np.rint(h)\n",
    "        return y_\n",
    "    def getseta (self):\n",
    "        return self.seta"
   ]
  },
  {
   "cell_type": "code",
   "execution_count": 7,
   "metadata": {},
   "outputs": [
    {
     "name": "stdout",
     "output_type": "stream",
     "text": [
      "[[1.       0.146313 0.402632]\n",
      " [1.       0.367512 0.63962 ]\n",
      " [1.       0.563364 0.59576 ]\n",
      " ...\n",
      " [1.       0.975806 0.439474]\n",
      " [1.       0.160138 0.777047]\n",
      " [1.       0.46659  0.67617 ]]\n"
     ]
    },
    {
     "name": "stderr",
     "output_type": "stream",
     "text": [
      "\r",
      "  0%|                                                 | 0/9999 [00:00<?, ?it/s]"
     ]
    },
    {
     "name": "stdout",
     "output_type": "stream",
     "text": [
      "43.59861591695502% accuracy\n",
      "56.40138408304498% accuracy\n"
     ]
    },
    {
     "name": "stderr",
     "output_type": "stream",
     "text": [
      "\r",
      "  1%|▌                                     | 149/9999 [00:01<01:06, 148.26it/s]"
     ]
    },
    {
     "name": "stdout",
     "output_type": "stream",
     "text": [
      "56.40138408304498% accuracy\n",
      "52.07612456747405% accuracy\n"
     ]
    },
    {
     "name": "stderr",
     "output_type": "stream",
     "text": [
      "\r",
      "  3%|█▏                                    | 310/9999 [00:02<01:03, 151.69it/s]"
     ]
    },
    {
     "name": "stdout",
     "output_type": "stream",
     "text": [
      "54.15224913494809% accuracy\n"
     ]
    },
    {
     "name": "stderr",
     "output_type": "stream",
     "text": [
      "\r",
      "  5%|█▊                                    | 473/9999 [00:03<01:01, 154.87it/s]"
     ]
    },
    {
     "name": "stdout",
     "output_type": "stream",
     "text": [
      "56.57439446366782% accuracy\n",
      "58.65051903114187% accuracy\n"
     ]
    },
    {
     "name": "stderr",
     "output_type": "stream",
     "text": [
      "\r",
      "  6%|██▍                                   | 637/9999 [00:04<00:59, 157.41it/s]"
     ]
    },
    {
     "name": "stdout",
     "output_type": "stream",
     "text": [
      "58.99653979238755% accuracy\n",
      "58.47750865051903% accuracy\n"
     ]
    },
    {
     "name": "stderr",
     "output_type": "stream",
     "text": [
      "\r",
      "  8%|███                                   | 806/9999 [00:05<00:57, 160.49it/s]"
     ]
    },
    {
     "name": "stdout",
     "output_type": "stream",
     "text": [
      "56.92041522491349% accuracy\n"
     ]
    },
    {
     "name": "stderr",
     "output_type": "stream",
     "text": [
      "\r",
      " 10%|███▋                                  | 975/9999 [00:06<00:55, 162.86it/s]"
     ]
    },
    {
     "name": "stdout",
     "output_type": "stream",
     "text": [
      "56.57439446366782% accuracy\n",
      "55.536332179930795% accuracy\n"
     ]
    },
    {
     "name": "stderr",
     "output_type": "stream",
     "text": [
      "\r",
      " 11%|████▏                                | 1141/9999 [00:07<00:54, 163.59it/s]"
     ]
    },
    {
     "name": "stdout",
     "output_type": "stream",
     "text": [
      "55.017301038062286% accuracy\n",
      "54.67128027681662% accuracy\n"
     ]
    },
    {
     "name": "stderr",
     "output_type": "stream",
     "text": [
      "\r",
      " 13%|████▊                                | 1311/9999 [00:08<00:52, 165.42it/s]"
     ]
    },
    {
     "name": "stdout",
     "output_type": "stream",
     "text": [
      "54.498269896193776% accuracy\n"
     ]
    },
    {
     "name": "stderr",
     "output_type": "stream",
     "text": [
      "\r",
      " 15%|█████▍                               | 1482/9999 [00:09<00:51, 166.81it/s]"
     ]
    },
    {
     "name": "stdout",
     "output_type": "stream",
     "text": [
      "54.498269896193776% accuracy\n",
      "54.325259515570934% accuracy\n"
     ]
    },
    {
     "name": "stderr",
     "output_type": "stream",
     "text": [
      "\r",
      " 17%|██████                               | 1650/9999 [00:10<00:50, 166.91it/s]"
     ]
    },
    {
     "name": "stdout",
     "output_type": "stream",
     "text": [
      "54.67128027681662% accuracy\n",
      "54.67128027681662% accuracy\n"
     ]
    },
    {
     "name": "stderr",
     "output_type": "stream",
     "text": [
      "\r",
      " 18%|██████▋                              | 1820/9999 [00:11<00:48, 167.58it/s]"
     ]
    },
    {
     "name": "stdout",
     "output_type": "stream",
     "text": [
      "54.498269896193776% accuracy\n"
     ]
    },
    {
     "name": "stderr",
     "output_type": "stream",
     "text": [
      "\r",
      " 20%|███████▎                             | 1990/9999 [00:12<00:47, 168.05it/s]"
     ]
    },
    {
     "name": "stdout",
     "output_type": "stream",
     "text": [
      "54.844290657439444% accuracy\n",
      "54.844290657439444% accuracy\n"
     ]
    },
    {
     "name": "stderr",
     "output_type": "stream",
     "text": [
      "\r",
      " 22%|███████▉                             | 2157/9999 [00:13<00:46, 167.53it/s]"
     ]
    },
    {
     "name": "stdout",
     "output_type": "stream",
     "text": [
      "55.017301038062286% accuracy\n",
      "55.19031141868512% accuracy\n"
     ]
    },
    {
     "name": "stderr",
     "output_type": "stream",
     "text": [
      "\r",
      " 23%|████████▌                            | 2324/9999 [00:14<00:46, 166.12it/s]"
     ]
    },
    {
     "name": "stdout",
     "output_type": "stream",
     "text": [
      "55.19031141868512% accuracy\n"
     ]
    },
    {
     "name": "stderr",
     "output_type": "stream",
     "text": [
      "\r",
      " 25%|█████████▏                           | 2494/9999 [00:15<00:44, 167.27it/s]"
     ]
    },
    {
     "name": "stdout",
     "output_type": "stream",
     "text": [
      "55.36332179930796% accuracy\n",
      "55.36332179930796% accuracy\n"
     ]
    },
    {
     "name": "stderr",
     "output_type": "stream",
     "text": [
      "\r",
      " 27%|█████████▊                           | 2663/9999 [00:16<00:43, 167.53it/s]"
     ]
    },
    {
     "name": "stdout",
     "output_type": "stream",
     "text": [
      "55.536332179930795% accuracy\n",
      "55.536332179930795% accuracy\n"
     ]
    },
    {
     "name": "stderr",
     "output_type": "stream",
     "text": [
      "\r",
      " 28%|██████████▍                          | 2832/9999 [00:17<00:42, 167.82it/s]"
     ]
    },
    {
     "name": "stdout",
     "output_type": "stream",
     "text": [
      "55.70934256055363% accuracy\n",
      "55.88235294117647% accuracy\n"
     ]
    },
    {
     "name": "stderr",
     "output_type": "stream",
     "text": [
      "\r",
      " 30%|███████████                          | 3001/9999 [00:18<00:41, 168.17it/s]"
     ]
    },
    {
     "name": "stdout",
     "output_type": "stream",
     "text": [
      "55.88235294117647% accuracy\n"
     ]
    },
    {
     "name": "stderr",
     "output_type": "stream",
     "text": [
      "\r",
      " 32%|███████████▋                         | 3169/9999 [00:19<00:40, 167.97it/s]"
     ]
    },
    {
     "name": "stdout",
     "output_type": "stream",
     "text": [
      "55.88235294117647% accuracy\n",
      "56.22837370242214% accuracy\n"
     ]
    },
    {
     "name": "stderr",
     "output_type": "stream",
     "text": [
      "\r",
      " 33%|████████████▎                        | 3337/9999 [00:20<00:39, 166.63it/s]"
     ]
    },
    {
     "name": "stdout",
     "output_type": "stream",
     "text": [
      "56.22837370242214% accuracy\n",
      "56.40138408304498% accuracy\n"
     ]
    },
    {
     "name": "stderr",
     "output_type": "stream",
     "text": [
      "\r",
      " 35%|████████████▉                        | 3504/9999 [00:21<00:39, 165.95it/s]"
     ]
    },
    {
     "name": "stdout",
     "output_type": "stream",
     "text": [
      "56.747404844290664% accuracy\n"
     ]
    },
    {
     "name": "stderr",
     "output_type": "stream",
     "text": [
      "\r",
      " 37%|█████████████▌                       | 3670/9999 [00:22<00:38, 165.81it/s]"
     ]
    },
    {
     "name": "stdout",
     "output_type": "stream",
     "text": [
      "56.747404844290664% accuracy\n",
      "56.747404844290664% accuracy\n"
     ]
    },
    {
     "name": "stderr",
     "output_type": "stream",
     "text": [
      "\r",
      " 38%|██████████████▏                      | 3838/9999 [00:23<00:37, 166.26it/s]"
     ]
    },
    {
     "name": "stdout",
     "output_type": "stream",
     "text": [
      "56.40138408304498% accuracy\n",
      "56.57439446366782% accuracy\n"
     ]
    },
    {
     "name": "stderr",
     "output_type": "stream",
     "text": [
      "\r",
      " 40%|██████████████▊                      | 4005/9999 [00:24<00:36, 165.69it/s]"
     ]
    },
    {
     "name": "stdout",
     "output_type": "stream",
     "text": [
      "56.40138408304498% accuracy\n"
     ]
    },
    {
     "name": "stderr",
     "output_type": "stream",
     "text": [
      "\r",
      " 42%|███████████████▍                     | 4171/9999 [00:25<00:35, 164.41it/s]"
     ]
    },
    {
     "name": "stdout",
     "output_type": "stream",
     "text": [
      "56.40138408304498% accuracy\n",
      "56.40138408304498% accuracy\n"
     ]
    },
    {
     "name": "stderr",
     "output_type": "stream",
     "text": [
      "\r",
      " 43%|████████████████                     | 4336/9999 [00:26<00:34, 163.90it/s]"
     ]
    },
    {
     "name": "stdout",
     "output_type": "stream",
     "text": [
      "56.40138408304498% accuracy\n",
      "56.40138408304498% accuracy\n"
     ]
    },
    {
     "name": "stderr",
     "output_type": "stream",
     "text": [
      "\r",
      " 45%|████████████████▋                    | 4505/9999 [00:27<00:33, 165.15it/s]"
     ]
    },
    {
     "name": "stdout",
     "output_type": "stream",
     "text": [
      "56.22837370242214% accuracy\n"
     ]
    },
    {
     "name": "stderr",
     "output_type": "stream",
     "text": [
      "\r",
      " 47%|█████████████████▎                   | 4674/9999 [00:28<00:32, 166.19it/s]"
     ]
    },
    {
     "name": "stdout",
     "output_type": "stream",
     "text": [
      "56.22837370242214% accuracy\n",
      "56.22837370242214% accuracy\n"
     ]
    },
    {
     "name": "stderr",
     "output_type": "stream",
     "text": [
      "\r",
      " 48%|█████████████████▉                   | 4841/9999 [00:29<00:31, 166.23it/s]"
     ]
    },
    {
     "name": "stdout",
     "output_type": "stream",
     "text": [
      "56.22837370242214% accuracy\n",
      "56.22837370242214% accuracy\n"
     ]
    },
    {
     "name": "stderr",
     "output_type": "stream",
     "text": [
      "\r",
      " 50%|██████████████████▌                  | 5009/9999 [00:30<00:29, 166.71it/s]"
     ]
    },
    {
     "name": "stdout",
     "output_type": "stream",
     "text": [
      "56.22837370242214% accuracy\n"
     ]
    },
    {
     "name": "stderr",
     "output_type": "stream",
     "text": [
      "\r",
      " 52%|███████████████████▏                 | 5179/9999 [00:31<00:28, 167.63it/s]"
     ]
    },
    {
     "name": "stdout",
     "output_type": "stream",
     "text": [
      "56.22837370242214% accuracy\n",
      "56.22837370242214% accuracy\n"
     ]
    },
    {
     "name": "stderr",
     "output_type": "stream",
     "text": [
      "\r",
      " 53%|███████████████████▊                 | 5347/9999 [00:32<00:27, 167.44it/s]"
     ]
    },
    {
     "name": "stdout",
     "output_type": "stream",
     "text": [
      "56.22837370242214% accuracy\n",
      "56.40138408304498% accuracy\n"
     ]
    },
    {
     "name": "stderr",
     "output_type": "stream",
     "text": [
      "\r",
      " 55%|████████████████████▍                | 5518/9999 [00:33<00:26, 168.39it/s]"
     ]
    },
    {
     "name": "stdout",
     "output_type": "stream",
     "text": [
      "56.40138408304498% accuracy\n"
     ]
    },
    {
     "name": "stderr",
     "output_type": "stream",
     "text": [
      "\r",
      " 57%|█████████████████████                | 5690/9999 [00:34<00:25, 169.31it/s]"
     ]
    },
    {
     "name": "stdout",
     "output_type": "stream",
     "text": [
      "56.40138408304498% accuracy\n",
      "56.40138408304498% accuracy\n"
     ]
    },
    {
     "name": "stderr",
     "output_type": "stream",
     "text": [
      "\r",
      " 59%|█████████████████████▋               | 5860/9999 [00:35<00:24, 168.91it/s]"
     ]
    },
    {
     "name": "stdout",
     "output_type": "stream",
     "text": [
      "56.22837370242214% accuracy\n",
      "56.22837370242214% accuracy\n"
     ]
    },
    {
     "name": "stderr",
     "output_type": "stream",
     "text": [
      "\r",
      " 60%|██████████████████████▎              | 6029/9999 [00:36<00:23, 168.89it/s]"
     ]
    },
    {
     "name": "stdout",
     "output_type": "stream",
     "text": [
      "56.22837370242214% accuracy\n"
     ]
    },
    {
     "name": "stderr",
     "output_type": "stream",
     "text": [
      "\r",
      " 62%|██████████████████████▉              | 6198/9999 [00:37<00:22, 168.87it/s]"
     ]
    },
    {
     "name": "stdout",
     "output_type": "stream",
     "text": [
      "56.22837370242214% accuracy\n",
      "56.22837370242214% accuracy\n"
     ]
    },
    {
     "name": "stderr",
     "output_type": "stream",
     "text": [
      "\r",
      " 64%|███████████████████████▌             | 6367/9999 [00:38<00:21, 168.76it/s]"
     ]
    },
    {
     "name": "stdout",
     "output_type": "stream",
     "text": [
      "56.22837370242214% accuracy\n",
      "56.05536332179931% accuracy\n"
     ]
    },
    {
     "name": "stderr",
     "output_type": "stream",
     "text": [
      "\r",
      " 65%|████████████████████████▏            | 6536/9999 [00:39<00:20, 168.58it/s]"
     ]
    },
    {
     "name": "stdout",
     "output_type": "stream",
     "text": [
      "56.05536332179931% accuracy\n",
      "56.05536332179931% accuracy\n"
     ]
    },
    {
     "name": "stderr",
     "output_type": "stream",
     "text": [
      "\r",
      " 67%|████████████████████████▊            | 6705/9999 [00:40<00:19, 168.00it/s]"
     ]
    },
    {
     "name": "stdout",
     "output_type": "stream",
     "text": [
      "56.05536332179931% accuracy\n"
     ]
    },
    {
     "name": "stderr",
     "output_type": "stream",
     "text": [
      "\r",
      " 69%|█████████████████████████▍           | 6874/9999 [00:41<00:18, 165.24it/s]"
     ]
    },
    {
     "name": "stdout",
     "output_type": "stream",
     "text": [
      "56.05536332179931% accuracy\n",
      "55.88235294117647% accuracy\n"
     ]
    },
    {
     "name": "stderr",
     "output_type": "stream",
     "text": [
      "\r",
      " 70%|██████████████████████████           | 7040/9999 [00:42<00:17, 165.32it/s]"
     ]
    },
    {
     "name": "stdout",
     "output_type": "stream",
     "text": [
      "56.05536332179931% accuracy\n",
      "56.05536332179931% accuracy\n"
     ]
    },
    {
     "name": "stderr",
     "output_type": "stream",
     "text": [
      "\r",
      " 72%|██████████████████████████▋          | 7206/9999 [00:43<00:17, 164.24it/s]"
     ]
    },
    {
     "name": "stdout",
     "output_type": "stream",
     "text": [
      "56.05536332179931% accuracy\n"
     ]
    },
    {
     "name": "stderr",
     "output_type": "stream",
     "text": [
      "\r",
      " 74%|███████████████████████████▎         | 7372/9999 [00:44<00:15, 164.52it/s]"
     ]
    },
    {
     "name": "stdout",
     "output_type": "stream",
     "text": [
      "56.05536332179931% accuracy\n",
      "56.05536332179931% accuracy\n"
     ]
    },
    {
     "name": "stderr",
     "output_type": "stream",
     "text": [
      "\r",
      " 75%|███████████████████████████▉         | 7537/9999 [00:45<00:15, 163.98it/s]"
     ]
    },
    {
     "name": "stdout",
     "output_type": "stream",
     "text": [
      "56.05536332179931% accuracy\n",
      "56.05536332179931% accuracy\n"
     ]
    },
    {
     "name": "stderr",
     "output_type": "stream",
     "text": [
      "\r",
      " 77%|████████████████████████████▌        | 7703/9999 [00:46<00:13, 164.33it/s]"
     ]
    },
    {
     "name": "stdout",
     "output_type": "stream",
     "text": [
      "56.05536332179931% accuracy\n"
     ]
    },
    {
     "name": "stderr",
     "output_type": "stream",
     "text": [
      "\r",
      " 79%|█████████████████████████████        | 7868/9999 [00:47<00:13, 163.51it/s]"
     ]
    },
    {
     "name": "stdout",
     "output_type": "stream",
     "text": [
      "55.88235294117647% accuracy\n",
      "55.88235294117647% accuracy\n"
     ]
    },
    {
     "name": "stderr",
     "output_type": "stream",
     "text": [
      "\r",
      " 80%|█████████████████████████████▋       | 8036/9999 [00:48<00:11, 164.68it/s]"
     ]
    },
    {
     "name": "stdout",
     "output_type": "stream",
     "text": [
      "55.88235294117647% accuracy\n",
      "55.88235294117647% accuracy\n"
     ]
    },
    {
     "name": "stderr",
     "output_type": "stream",
     "text": [
      "\r",
      " 82%|██████████████████████████████▎      | 8201/9999 [00:49<00:10, 163.89it/s]"
     ]
    },
    {
     "name": "stdout",
     "output_type": "stream",
     "text": [
      "55.88235294117647% accuracy\n"
     ]
    },
    {
     "name": "stderr",
     "output_type": "stream",
     "text": [
      "\r",
      " 84%|██████████████████████████████▉      | 8365/9999 [00:50<00:09, 163.88it/s]"
     ]
    },
    {
     "name": "stdout",
     "output_type": "stream",
     "text": [
      "55.88235294117647% accuracy\n",
      "55.88235294117647% accuracy\n"
     ]
    },
    {
     "name": "stderr",
     "output_type": "stream",
     "text": [
      "\r",
      " 85%|███████████████████████████████▌     | 8531/9999 [00:51<00:08, 164.26it/s]"
     ]
    },
    {
     "name": "stdout",
     "output_type": "stream",
     "text": [
      "55.88235294117647% accuracy\n"
     ]
    },
    {
     "name": "stderr",
     "output_type": "stream",
     "text": [
      "\r",
      " 87%|████████████████████████████████▏    | 8697/9999 [00:52<00:07, 164.63it/s]"
     ]
    },
    {
     "name": "stdout",
     "output_type": "stream",
     "text": [
      "55.88235294117647% accuracy\n",
      "55.88235294117647% accuracy\n"
     ]
    },
    {
     "name": "stderr",
     "output_type": "stream",
     "text": [
      "\r",
      " 89%|████████████████████████████████▊    | 8862/9999 [00:53<00:06, 164.20it/s]"
     ]
    },
    {
     "name": "stdout",
     "output_type": "stream",
     "text": [
      "55.88235294117647% accuracy\n",
      "56.05536332179931% accuracy\n"
     ]
    },
    {
     "name": "stderr",
     "output_type": "stream",
     "text": [
      "\r",
      " 90%|█████████████████████████████████▍   | 9027/9999 [00:54<00:05, 163.03it/s]"
     ]
    },
    {
     "name": "stdout",
     "output_type": "stream",
     "text": [
      "56.05536332179931% accuracy\n"
     ]
    },
    {
     "name": "stderr",
     "output_type": "stream",
     "text": [
      "\r",
      " 92%|██████████████████████████████████   | 9191/9999 [00:55<00:04, 161.87it/s]"
     ]
    },
    {
     "name": "stdout",
     "output_type": "stream",
     "text": [
      "56.05536332179931% accuracy\n",
      "56.05536332179931% accuracy\n"
     ]
    },
    {
     "name": "stderr",
     "output_type": "stream",
     "text": [
      "\r",
      " 94%|██████████████████████████████████▌  | 9353/9999 [00:56<00:04, 160.27it/s]"
     ]
    },
    {
     "name": "stdout",
     "output_type": "stream",
     "text": [
      "56.22837370242214% accuracy\n",
      "56.22837370242214% accuracy\n"
     ]
    },
    {
     "name": "stderr",
     "output_type": "stream",
     "text": [
      "\r",
      " 95%|███████████████████████████████████▏ | 9514/9999 [00:57<00:03, 160.44it/s]"
     ]
    },
    {
     "name": "stdout",
     "output_type": "stream",
     "text": [
      "56.22837370242214% accuracy\n"
     ]
    },
    {
     "name": "stderr",
     "output_type": "stream",
     "text": [
      "\r",
      " 97%|███████████████████████████████████▊ | 9675/9999 [00:58<00:02, 160.61it/s]"
     ]
    },
    {
     "name": "stdout",
     "output_type": "stream",
     "text": [
      "56.22837370242214% accuracy\n",
      "56.22837370242214% accuracy\n"
     ]
    },
    {
     "name": "stderr",
     "output_type": "stream",
     "text": [
      "\r",
      " 98%|████████████████████████████████████▍| 9838/9999 [00:59<00:00, 161.18it/s]"
     ]
    },
    {
     "name": "stdout",
     "output_type": "stream",
     "text": [
      "56.22837370242214% accuracy\n"
     ]
    },
    {
     "name": "stderr",
     "output_type": "stream",
     "text": [
      "100%|█████████████████████████████████████| 9999/9999 [01:00<00:00, 165.31it/s]\n"
     ]
    }
   ],
   "source": [
    "lr = LogsitcRegression_custom(solver = 'gradient', itr = 10000, alpha = 0.2)\n",
    "lr.fit(df_x,df_y)\n",
    "seta = lr.getseta()\n",
    "\n",
    "#lr.custom"
   ]
  },
  {
   "cell_type": "code",
   "execution_count": 80,
   "metadata": {},
   "outputs": [
    {
     "data": {
      "text/plain": [
       "[<matplotlib.lines.Line2D at 0x125d0438>]"
      ]
     },
     "execution_count": 80,
     "metadata": {},
     "output_type": "execute_result"
    },
    {
     "data": {
      "image/png": "[encoded data removed]",
      "text/plain": [
       "<Figure size 432x288 with 1 Axes>"
      ]
     },
     "metadata": {
      "needs_background": "light"
     },
     "output_type": "display_data"
    }
   ],
   "source": [
    "plt.plot(df_sub1['x1'],df_sub1['x2'],'ro')\n",
    "plt.plot(df_sub2['x1'],df_sub2['x2'],'bx')\n",
    "drawx1 =  np.linspace(0, 1, 100)\n",
    "#s0 + x1 s1 + x2 s2 = 0 인점은\n",
    "# x2 = (-s0 - s1) x1  / s2\n",
    "drawx2 = (-seta[0] - seta[1] * drawx1) / seta[2]\n",
    "#for i,x1 in enumerate(drawx1):\n",
    "plt.plot(drawx1,drawx2)"
   ]
  },
  {
   "cell_type": "code",
   "execution_count": 33,
   "metadata": {},
   "outputs": [],
   "source": [
    "#from sklearn.linear_model import LogisticRegression\n",
    "#clf = LogisticRegression(random_state=0, solver='lbfgs',multi_class='multinomial').fit(df_x, df_y)\n",
    "#clf.score(df_x, df_y)"
   ]
  },
  {
   "cell_type": "code",
   "execution_count": 28,
   "metadata": {},
   "outputs": [],
   "source": [
    "class NaiveBayesClassifier_cont_input:\n",
    "    def __init__(self, k=0.5,method = 'g-distribution'):\n",
    "        self.k = k\n",
    "        self.word_probs = []\n",
    "        self.method = 'g-distribution'\n",
    "    def fit(self, x,y):\n",
    "        xy = pd.concat([x, y], axis=1)\n",
    "        #print(xy)\n",
    "        if self.method == 'g-distribution':\n",
    "            #x1, x2 ... 에 대해서 가우시안 분포를 만든다.\n",
    "            m = y.size\n",
    "            n = x.loc[0].size       \n",
    "            self.n = n\n",
    "            ny = y.to_numpy()\n",
    "            nx = x.to_numpy()\n",
    "            fx_list = []\n",
    "            mean_y0_list = []\n",
    "            mean_y1_list = []\n",
    "            var_y0_list = []\n",
    "            var_y1_list = []\n",
    "            for i in range (0,n):\n",
    "                xy_0 = xy[xy['y'] == 0]\n",
    "                xy_1 = xy[xy['y'] == 1]\n",
    "                self.py1 = xy_0.shape[0]\n",
    "                self.py2 = xy_1.shape[0]\n",
    "                \n",
    "                nx_y0_mean = xy_0.iloc[:,i].mean()\n",
    "                nx_y0_var = xy_0.iloc[:,i].var()\n",
    "                nx_y1_mean = xy_1.iloc[:,i].mean()\n",
    "                nx_y1_var = xy_1.iloc[:,i].var()                \n",
    "                \n",
    "                mean_y0_list.append(nx_y0_mean)\n",
    "                var_y0_list.append(nx_y0_var)\n",
    "                \n",
    "                mean_y1_list.append(nx_y1_mean)\n",
    "                var_y1_list.append(nx_y1_var)\n",
    "                \n",
    "             #   print(nx_y0_mean,nx_y0_var)\n",
    "             #   print(nx_y1_mean,nx_y1_var)\n",
    "                fx1 = lambda x__ : (2* pi * nx_y0_var) ** (-0.5) * exp( -((x__-nx_y0_mean)** 2) /  (2 * nx_y0_var))\n",
    "                fx2 = lambda x__ : (2* pi * nx_y1_var) ** (-0.5) * exp( -((x__-nx_y1_mean)** 2) /  (2 * nx_y1_var) )                                                    \n",
    "                fx_list.append((fx1,fx2))\n",
    "            self.mean_y0_list = mean_y0_list\n",
    "            self.mean_y1_list = mean_y1_list\n",
    "            self.var_y0_list = var_y0_list\n",
    "            self.var_y1_list = var_y1_list\n",
    "            self.gaussians = fx_list\n",
    "    def classify(self, x):\n",
    "        if self.method == 'g-distribution':\n",
    "            mul1 = 1\n",
    "            mul2 = 1\n",
    "            for i in range (0,self.n):\n",
    "                (fx1,fx2) = self.gaussians[i]\n",
    "                #print( x[i] , fx1(x[i]))\n",
    "                mul1 = mul1 * fx1(x[i]) \n",
    "                mul2 = mul2 * fx2(x[i])\n",
    "                #print(mul1,mul2)\n",
    "            summer = mul2 / (mul1+ mul2)\n",
    "           # print ('finall prob = ' +str(summer))\n",
    "            return summer\n",
    "    def modify_moveval(self,idx,mean,val,y_0):\n",
    "        if y_0 == 0:\n",
    "            self.mean_y0_list[idx] += mean\n",
    "            self.var_y0_list[idx] += val\n",
    "            fx1,fx2 = self.gaussians[idx]\n",
    "            fx1 = lambda x__ : (2* pi * self.var_y0_list[idx]) ** (-0.5) * exp( -((x__- self.mean_y0_list[idx])** 2) /  (2 * self.var_y0_list[idx]))\n",
    "            self.gaussians[idx] = (fx1,fx2)\n",
    "        if y_0 == 1:\n",
    "            self.mean_y1_list[idx] += mean\n",
    "            self.var_y1_list[idx] += val\n",
    "            fx1,fx2 = self.gaussians[idx]\n",
    "            fx2 = lambda x__ : (2* pi * self.var_y1_list[idx]) ** (-0.5) * exp( -((x__- self.mean_y1_list[idx])** 2) /  (2 * self.var_y1_list[idx]))\n",
    "            self.gaussians[idx] = (fx1,fx2)"
   ]
  },
  {
   "cell_type": "code",
   "execution_count": 45,
   "metadata": {},
   "outputs": [],
   "source": [
    "NB = NaiveBayesClassifier_cont_input(k = '0.5', method = 'g-distribution')\n",
    "NB.fit(df_x,df_y)\n",
    "NB.modify_moveval( 0,(0.2),(0.01),1 )\n",
    "NB.modify_moveval( 0,(0.1),(0),0 )\n",
    "r_y = []\n",
    "for index, xx in df_x.iterrows():\n",
    "  #  print(xx)\n",
    "   # print(xx[0])\n",
    "    prob1 = NB.classify(xx)\n",
    "    if prob1 >= 0.5:\n",
    "        r_y.append (1)\n",
    "    else:\n",
    "        r_y.append (0)\n",
    "\n",
    "df_ry = pd.DataFrame(r_y,columns=['y'])\n",
    "df_trained_mv2 = pd.concat([df_x, df_ry], axis=1)\n",
    "#df_trained = df_x.append(r_y)"
   ]
  },
  {
   "cell_type": "code",
   "execution_count": 36,
   "metadata": {},
   "outputs": [
    {
     "name": "stdout",
     "output_type": "stream",
     "text": [
      "0.6868512110726643\n"
     ]
    },
    {
     "data": {
      "text/plain": [
       "[<matplotlib.lines.Line2D at 0x12abf320>]"
      ]
     },
     "execution_count": 36,
     "metadata": {},
     "output_type": "execute_result"
    },
    {
     "data": {
      "image/png": "[encoded data removed]",
      "text/plain": [
       "<Figure size 432x288 with 1 Axes>"
      ]
     },
     "metadata": {
      "needs_background": "light"
     },
     "output_type": "display_data"
    },
    {
     "data": {
      "image/png": "[encoded data removed]",
      "text/plain": [
       "<Figure size 432x288 with 1 Axes>"
      ]
     },
     "metadata": {
      "needs_background": "light"
     },
     "output_type": "display_data"
    }
   ],
   "source": [
    "count_right=0\n",
    "count_wrong=0\n",
    "for index, xy in df_trained.iterrows():\n",
    "    if xy['y'] == df.iloc[index]['y']:\n",
    "        count_right+=1\n",
    "    else :\n",
    "        count_wrong+=1\n",
    "        \n",
    "print(count_right/(count_right+count_wrong))\n",
    "#df_trained\n",
    "\n",
    "df_ry = pd.DataFrame(r_y,columns=['y'])\n",
    "df_trained = pd.concat([df_x, df_ry], axis=1)\n",
    "drawx1 =  np.linspace(0, 1, 100)\n",
    "df_sub1 = df[df['y'] == 0]\n",
    "df_sub2 = df[df['y'] == 1]\n",
    "plt.plot(df_sub1['x1'],df_sub1['x2'],'ro')\n",
    "plt.plot(df_sub2['x1'],df_sub2['x2'],'bx')\n",
    "drawx2 = (-seta[0] - seta[1] * drawx1) / seta[2]\n",
    "#for i,x1 in enumerate(drawx1):\n",
    "plt.plot(drawx1,drawx2)\n",
    "\n",
    "plt.figure()\n",
    "df_sub11 = df_trained[df_trained['y'] == 0]\n",
    "df_sub22 = df_trained[df_trained['y'] == 1]\n",
    "plt.plot(df_sub11['x1'],df_sub11['x2'],'ro')\n",
    "plt.plot(df_sub22['x1'],df_sub22['x2'],'bx')"
   ]
  },
  {
   "cell_type": "code",
   "execution_count": 35,
   "metadata": {},
   "outputs": [
    {
     "name": "stdout",
     "output_type": "stream",
     "text": [
      "0.629757785467128\n"
     ]
    },
    {
     "data": {
      "text/plain": [
       "[<matplotlib.lines.Line2D at 0x12a1ceb8>]"
      ]
     },
     "execution_count": 35,
     "metadata": {},
     "output_type": "execute_result"
    },
    {
     "data": {
      "image/png": "[encoded data removed]",
      "text/plain": [
       "<Figure size 432x288 with 1 Axes>"
      ]
     },
     "metadata": {
      "needs_background": "light"
     },
     "output_type": "display_data"
    }
   ],
   "source": [
    "count_right=0\n",
    "count_wrong=0\n",
    "for index, xy in df_trained_mv1.iterrows():\n",
    "    if xy['y'] == df.iloc[index]['y']:\n",
    "        count_right+=1\n",
    "    else :\n",
    "        count_wrong+=1\n",
    "        \n",
    "print(count_right/(count_right+count_wrong))\n",
    "plt.figure()\n",
    "df_sub11 = df_trained_mv1[df_trained_mv1['y'] == 0]\n",
    "df_sub22 = df_trained_mv1[df_trained_mv1['y'] == 1]\n",
    "plt.plot(df_sub11['x1'],df_sub11['x2'],'ro')\n",
    "plt.plot(df_sub22['x1'],df_sub22['x2'],'bx')"
   ]
  },
  {
   "cell_type": "code",
   "execution_count": 46,
   "metadata": {},
   "outputs": [
    {
     "name": "stdout",
     "output_type": "stream",
     "text": [
      "0.7664359861591695\n"
     ]
    },
    {
     "data": {
      "text/plain": [
       "[<matplotlib.lines.Line2D at 0x12bfa198>]"
      ]
     },
     "execution_count": 46,
     "metadata": {},
     "output_type": "execute_result"
    },
    {
     "data": {
      "image/png": "[encoded data removed]",
      "text/plain": [
       "<Figure size 432x288 with 1 Axes>"
      ]
     },
     "metadata": {
      "needs_background": "light"
     },
     "output_type": "display_data"
    }
   ],
   "source": [
    "count_right=0\n",
    "count_wrong=0\n",
    "for index, xy in df_trained_mv2.iterrows():\n",
    "    if xy['y'] == df.iloc[index]['y']:\n",
    "        count_right+=1\n",
    "    else :\n",
    "        count_wrong+=1\n",
    "        \n",
    "print(count_right/(count_right+count_wrong))\n",
    "plt.figure()\n",
    "df_sub11 = df_trained_mv2[df_trained_mv2['y'] == 0]\n",
    "df_sub22 = df_trained_mv2[df_trained_mv2['y'] == 1]\n",
    "plt.plot(df_sub11['x1'],df_sub11['x2'],'ro')\n",
    "plt.plot(df_sub22['x1'],df_sub22['x2'],'bx')"
   ]
  },
  {
   "cell_type": "code",
   "execution_count": null,
   "metadata": {},
   "outputs": [],
   "source": []
  }
 ],
 "metadata": {
  "kernelspec": {
   "display_name": "Python 3",
   "language": "python",
   "name": "python3"
  },
  "language_info": {
   "codemirror_mode": {
    "name": "ipython",
    "version": 3
   },
   "file_extension": ".py",
   "mimetype": "text/x-python",
   "name": "python",
   "nbconvert_exporter": "python",
   "pygments_lexer": "ipython3",
   "version": "3.6.8"
  }
 },
 "nbformat": 4,
 "nbformat_minor": 2
}
